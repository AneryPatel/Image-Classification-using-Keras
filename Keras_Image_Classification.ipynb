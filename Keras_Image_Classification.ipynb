{
 "cells": [
  {
   "cell_type": "code",
   "execution_count": 2,
   "metadata": {},
   "outputs": [],
   "source": [
    "from keras.preprocessing.image import load_img\n",
    "from keras.preprocessing.image import img_to_array\n",
    "from keras.applications.vgg16 import preprocess_input\n",
    "from keras.applications.vgg16 import decode_predictions\n",
    "from keras.applications.vgg16 import VGG16"
   ]
  },
  {
   "cell_type": "code",
   "execution_count": 3,
   "metadata": {},
   "outputs": [
    {
     "name": "stdout",
     "output_type": "stream",
     "text": [
      "A local file was found, but it seems to be incomplete or outdated because the auto file hash does not match the original value of 64373286793e3c8b2b4e3219cbf3544b so we will re-download the data.\n",
      "Downloading data from https://github.com/fchollet/deep-learning-models/releases/download/v0.1/vgg16_weights_tf_dim_ordering_tf_kernels.h5\n",
      "553467904/553467096 [==============================] - 142s 0us/step\n"
     ]
    }
   ],
   "source": [
    "#load the model\n",
    "model = VGG16()"
   ]
  },
  {
   "cell_type": "code",
   "execution_count": 7,
   "metadata": {},
   "outputs": [
    {
     "name": "stdout",
     "output_type": "stream",
     "text": [
      "analog_clock (78.55%)\n"
     ]
    }
   ],
   "source": [
    "#load the image\n",
    "image = load_img('watch.jpg', target_size = (224,224))\n",
    "\n",
    "#convert image pixels to numpy array\n",
    "image = img_to_array(image)\n",
    "\n",
    "#reshape data for the model\n",
    "image = image.reshape(1,image.shape[0],image.shape[1],image.shape[2])\n",
    "\n",
    "#prepare the image for vgg model i.e.subtracting the mean RGB value, computed on \n",
    "#the training set, from each pixel.\n",
    "image = preprocess_input(image)\n",
    "\n",
    "#predict the output in probability\n",
    "yhat = model.predict(image)\n",
    "\n",
    "#convert the probabilities to class prediction\n",
    "label = decode_predictions(yhat)\n",
    "\n",
    "#get the class with highest probability\n",
    "label = label[0][0]\n",
    "\n",
    "# print the classification\n",
    "print('%s (%.2f%%)' % (label[1], label[2]*100))"
   ]
  },
  {
   "cell_type": "code",
   "execution_count": null,
   "metadata": {
    "collapsed": true
   },
   "outputs": [],
   "source": []
  }
 ],
 "metadata": {
  "kernelspec": {
   "display_name": "Python 3",
   "language": "python",
   "name": "python3"
  },
  "language_info": {
   "codemirror_mode": {
    "name": "ipython",
    "version": 3
   },
   "file_extension": ".py",
   "mimetype": "text/x-python",
   "name": "python",
   "nbconvert_exporter": "python",
   "pygments_lexer": "ipython3",
   "version": "3.6.1"
  }
 },
 "nbformat": 4,
 "nbformat_minor": 2
}
